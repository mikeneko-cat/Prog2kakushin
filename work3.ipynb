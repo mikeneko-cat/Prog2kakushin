{
  "nbformat": 4,
  "nbformat_minor": 0,
  "metadata": {
    "colab": {
      "provenance": [],
      "authorship_tag": "ABX9TyNAyRABnwq+DC+HhUbY25nQ",
      "include_colab_link": true
    },
    "kernelspec": {
      "name": "python3",
      "display_name": "Python 3"
    },
    "language_info": {
      "name": "python"
    }
  },
  "cells": [
    {
      "cell_type": "markdown",
      "metadata": {
        "id": "view-in-github",
        "colab_type": "text"
      },
      "source": [
        "<a href=\"https://colab.research.google.com/github/mikeneko-cat/Prog2kakushin/blob/main/work3.ipynb\" target=\"_parent\"><img src=\"https://colab.research.google.com/assets/colab-badge.svg\" alt=\"Open In Colab\"/></a>"
      ]
    },
    {
      "cell_type": "markdown",
      "source": [
        "turtleもしくはopencvを使ったプログラム作成\n",
        "\n",
        "---(内容)---\n",
        "\n",
        "turtleで画面を放置した時のあれを作る"
      ],
      "metadata": {
        "id": "nrvMlFPgqRoC"
      }
    },
    {
      "cell_type": "code",
      "source": [
        "#最初に実行!!\n",
        "!pip3 install ColabTurtlePlus\n",
        "from ColabTurtlePlus.Turtle import *"
      ],
      "metadata": {
        "id": "tySy1KfZ8UJP",
        "colab": {
          "base_uri": "https://localhost:8080/"
        },
        "outputId": "1ac0c5ff-8e14-49b4-daec-7452144f7a22"
      },
      "execution_count": 1,
      "outputs": [
        {
          "output_type": "stream",
          "name": "stdout",
          "text": [
            "Looking in indexes: https://pypi.org/simple, https://us-python.pkg.dev/colab-wheels/public/simple/\n",
            "Collecting ColabTurtlePlus\n",
            "  Downloading ColabTurtlePlus-2.0.1-py3-none-any.whl (31 kB)\n",
            "Installing collected packages: ColabTurtlePlus\n",
            "Successfully installed ColabTurtlePlus-2.0.1\n",
            "Put clearscreen() as the first line in a cell (after the import command) to re-run turtle commands in the cell\n"
          ]
        }
      ]
    },
    {
      "cell_type": "code",
      "source": [
        "import turtle\n",
        "from random import randint as ran\n",
        "import time\n",
        "\n",
        "#亀のスピードを変えるときこの部分を変更（デフォルトは6)\n",
        "speed=10\n",
        "\n",
        "#スクリーンとturtleの設定\n",
        "clearscreen()\n",
        "screenhight,screenwid=300,400\n",
        "hosei=30\n",
        "\n",
        "hyouzi=10\n",
        "\n",
        "def moveturtle():\n",
        "  turtle1.forward(15)\n",
        "  x,y,head=turtle1.getx(),turtle1.gety(),turtle1.heading()\n",
        "  nowtime=int(time.time())\n",
        "  if starttime+hyouzi<=nowtime:\n",
        "    return\n",
        "  if x>=maxx:\n",
        "    head=ran(110,250)\n",
        "  elif x<=minx:\n",
        "    head=ran(-70,70)\n",
        "  elif y>=maxy:\n",
        "    head=ran(200,340)\n",
        "  elif y<=miny:\n",
        "    head=ran(20,160)\n",
        "  turtle1.setheading(head)\n",
        "  moveturtle()\n",
        "\n",
        "\n",
        "wakustartx=(screenwid/2)*(-1)\n",
        "wakustarty=(screenhight/2)*(-1)\n",
        "setup(screenwid,screenhight)\n",
        "maxx=screenwid/2-hosei\n",
        "minx=maxx*(-1)\n",
        "maxy=screenhight/2-hosei\n",
        "miny=maxy*(-1)\n",
        "\n",
        "turtle1 = Turtle()\n",
        "turtle1.shape(\"turtle\")\n",
        "turtle1.speed(speed)\n",
        "turtle1.pencolor('#000000')\n",
        "turtle1.fillcolor('#000000')\n",
        "turtle1.pu()\n",
        "turtle1.goto(wakustartx,wakustarty)\n",
        "turtle1.pd()\n",
        "turtle1.begin_fill()\n",
        "for i in range(2):\n",
        "  turtle1.forward(screenwid)\n",
        "  turtle1.left(90)\n",
        "  turtle1.forward(screenhight)\n",
        "  turtle1.left(90)\n",
        "turtle1.end_fill()\n",
        "\n",
        "turtle1.pencolor('#ffffff')\n",
        "turtle1.fillcolor('#ffffff')\n",
        "turtle1.pu()\n",
        "\n",
        "#初動\n",
        "head=ran(30,60)\n",
        "turtle1.setheading(head)\n",
        "turtle1.forward(50)\n",
        "\n",
        "starttime = int(time.time())\n",
        "\n",
        "moveturtle()\n",
        "print('END')"
      ],
      "metadata": {
        "id": "nH6MtLCnsVhu",
        "outputId": "3474ba3b-9f77-40f1-e634-3a02f3e65649",
        "colab": {
          "base_uri": "https://localhost:8080/",
          "height": 340
        }
      },
      "execution_count": 8,
      "outputs": [
        {
          "output_type": "display_data",
          "data": {
            "text/plain": [
              "<IPython.core.display.HTML object>"
            ],
            "text/html": [
              "\n",
              "      <svg width=\"400\" height=\"300\">  \n",
              "        <rect width=\"100%\" height=\"100%\" style=\"fill:white;stroke:;stroke-width:1\"/>\n",
              "        \n",
              "        \n",
              "        <path fill-rule=\"evenodd\" fill-opacity=\"1\" d=\"M 0.0 300.0  L 400.0 300.0  L 400.0 0.0  L 0.0 0.0  L 0.0 300.0 \" stroke-linecap=\"round\" style=\"stroke:#000000;stroke-width:1\" fill=\"#000000\" />\n",
              "        \n",
              "        \n",
              "        <g id=\"turtle\" visibility=\"visible\" transform=\"rotate(132,49.89617238216091,167.15295909538287) translate(49.89617238216091, 167.15295909538287)\">\n",
              "<path style=\"stroke:#ffffff;fill-rule:evenodd;fill:#ffffff;fill-opacity:1;\" transform=\"skewX(0) scale(1,1)\" d=\"m 1.1536693,-18.56101 c -2.105469,1.167969 -3.203125,3.441407 -3.140625,6.5 l 0.011719,0.519532 -0.300782,-0.15625 c -1.308594,-0.671875 -2.828125,-0.824219 -4.378906,-0.429688 -1.9375,0.484375 -3.8906253,2.089844 -6.0117193,4.9257825 -1.332031,1.785156 -1.714843,2.644531 -1.351562,3.035156 l 0.113281,0.125 h 0.363281 c 0.71875,0 1.308594,-0.265625 4.6679693,-2.113282 1.199219,-0.660156 2.183594,-1.199218 2.191406,-1.199218 0.00781,0 -0.023437,0.089844 -0.074218,0.195312 -0.472657,1.058594 -1.046876,2.785156 -1.335938,4.042969 -1.054688,4.574219 -0.351562,8.453125 2.101562,11.582031 0.28125,0.355469 0.292969,0.253906 -0.097656,0.722656 -2.046875,2.4609375 -3.027344,4.8984375 -2.734375,6.8046875 0.050781,0.339844 0.042969,0.335938 0.679688,0.335938 2.023437,0 4.15625,-1.316407 6.21875,-3.835938 0.222656,-0.269531 0.191406,-0.261719 0.425781,-0.113281 0.730469,0.46875 2.460938,1.390625 2.613281,1.390625 0.160157,0 1.765625,-0.753906 2.652344,-1.246094 0.167969,-0.09375 0.308594,-0.164062 0.308594,-0.160156 0.066406,0.105468 0.761719,0.855468 1.085937,1.171875 1.613282,1.570312 3.339844,2.402343 5.3593747,2.570312 0.324219,0.02734 0.355469,0.0078 0.425781,-0.316406 0.375,-1.742187 -0.382812,-4.058594 -2.1445307,-6.5585935 l -0.320312,-0.457031 0.15625,-0.183594 c 3.2460927,-3.824218 3.4335927,-9.08593704 0.558593,-15.816406 l -0.050781,-0.125 1.7382807,0.859375 c 3.585938,1.773437 4.371094,2.097656 5.085938,2.097656 0.945312,0 0.75,-0.863281 -0.558594,-2.507812 C 11.458356,-11.838353 8.3333563,-13.268041 4.8607003,-11.721166 l -0.363281,0.164063 0.019531,-0.09375 c 0.121094,-0.550781 0.183594,-1.800781 0.121094,-2.378907 -0.203125,-1.867187 -1.035157,-3.199218 -2.695313,-4.308593 -0.523437,-0.351563 -0.546875,-0.355469 -0.789062,-0.222657\" />\n",
              "</g>\n",
              "      </svg>\n",
              "    "
            ]
          },
          "metadata": {}
        },
        {
          "output_type": "stream",
          "name": "stdout",
          "text": [
            "END\n"
          ]
        }
      ]
    }
  ]
}