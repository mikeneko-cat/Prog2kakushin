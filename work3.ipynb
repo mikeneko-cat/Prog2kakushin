{
  "nbformat": 4,
  "nbformat_minor": 0,
  "metadata": {
    "colab": {
      "provenance": [],
      "authorship_tag": "ABX9TyOMVT9FKmPWCLsJYCQAXCrP",
      "include_colab_link": true
    },
    "kernelspec": {
      "name": "python3",
      "display_name": "Python 3"
    },
    "language_info": {
      "name": "python"
    }
  },
  "cells": [
    {
      "cell_type": "markdown",
      "metadata": {
        "id": "view-in-github",
        "colab_type": "text"
      },
      "source": [
        "<a href=\"https://colab.research.google.com/github/mikeneko-cat/Prog2kakushin/blob/main/work3.ipynb\" target=\"_parent\"><img src=\"https://colab.research.google.com/assets/colab-badge.svg\" alt=\"Open In Colab\"/></a>"
      ]
    },
    {
      "cell_type": "markdown",
      "source": [
        "turtleもしくはopencvを使ったプログラム作成\n",
        "\n",
        "---(内容)---\n",
        "\n",
        "turtleで幾何学模様を作る"
      ],
      "metadata": {
        "id": "nrvMlFPgqRoC"
      }
    },
    {
      "cell_type": "code",
      "source": [
        "import turtle\n",
        "import opencv"
      ],
      "metadata": {
        "id": "nH6MtLCnsVhu"
      },
      "execution_count": null,
      "outputs": []
    }
  ]
}