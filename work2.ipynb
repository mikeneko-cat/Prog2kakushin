{
  "nbformat": 4,
  "nbformat_minor": 0,
  "metadata": {
    "colab": {
      "provenance": [],
      "authorship_tag": "ABX9TyOd5sjNuU+PR+GMYtwmQVLz",
      "include_colab_link": true
    },
    "kernelspec": {
      "name": "python3",
      "display_name": "Python 3"
    },
    "language_info": {
      "name": "python"
    }
  },
  "cells": [
    {
      "cell_type": "markdown",
      "metadata": {
        "id": "view-in-github",
        "colab_type": "text"
      },
      "source": [
        "<a href=\"https://colab.research.google.com/github/mikeneko-cat/Prog2kakushin/blob/main/work2.ipynb\" target=\"_parent\"><img src=\"https://colab.research.google.com/assets/colab-badge.svg\" alt=\"Open In Colab\"/></a>"
      ]
    },
    {
      "cell_type": "markdown",
      "source": [
        "numpyを使ったプログラム\n",
        "\n",
        "---(内容)---\n",
        "\n",
        "任意のn次マクローリン級数展開によるsin(x)の近似のグラフ"
      ],
      "metadata": {
        "id": "aSf5fMkLp1Ab"
      }
    },
    {
      "cell_type": "code",
      "source": [
        "import numpy as np\n",
        "import matplotlib.pyplot as plt\n",
        "\n",
        "#乗数の計算\n",
        "def factorial(i,a):\n",
        "  for k in range(1,i+1):\n",
        "    a/=k\n",
        "  return a\n",
        "\n",
        "#sin(x)のn次導関数の値の判定\n",
        "def judge(i):\n",
        "  while i>=4:\n",
        "    i-=4\n",
        "  if i==0:\n",
        "    return 0\n",
        "  elif i==1:\n",
        "    return 1\n",
        "  elif i==2:\n",
        "    return 0\n",
        "  elif i==3:\n",
        "    return -1\n",
        "\n",
        "#マクローリン展開\n",
        "def makurorin(degree,function):\n",
        "  function+=judge(degree)*factorial(degree,1)*(x**degree)\n",
        "  degree-=1\n",
        "  if degree<=0:\n",
        "    plt.plot(x,function,label='approximation')\n",
        "    return degree\n",
        "  else:\n",
        "    makurorin(degree,function)\n",
        "\n",
        "#いろいろな設定(xの範囲など)  \n",
        "a=0\n",
        "x = np.linspace(-10,10,100)\n",
        "degree=int(input('order of approximation(何次の近似をするか):'))\n",
        "\n",
        "#図の作成\n",
        "y1=np.sin(x)\n",
        "plt.plot(x,np.sin(x),label='sin(x)')\n",
        "makurorin(degree,0)\n",
        "\n",
        "#表示設定\n",
        "plt.ylim([-5,5])\n",
        "plt.legend()\n",
        "plt.grid()\n",
        "plt.show()"
      ],
      "metadata": {
        "id": "VpbU-AD6r3tG",
        "outputId": "2dc18d42-2ba1-4b6e-cad5-aca699ea4fed",
        "colab": {
          "base_uri": "https://localhost:8080/",
          "height": 283
        }
      },
      "execution_count": 86,
      "outputs": [
        {
          "name": "stdout",
          "output_type": "stream",
          "text": [
            "order of approximation(何次の近似をするか):9\n"
          ]
        },
        {
          "output_type": "display_data",
          "data": {
            "text/plain": [
              "<Figure size 432x288 with 1 Axes>"
            ],
            "image/png": "[encoded data removed]"
          },
          "metadata": {
            "needs_background": "light"
          }
        }
      ]
    }
  ]
}