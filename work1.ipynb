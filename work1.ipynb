{
  "nbformat": 4,
  "nbformat_minor": 0,
  "metadata": {
    "colab": {
      "provenance": [],
      "authorship_tag": "ABX9TyM8QMaplN6Ct5/rIRh3PjE8",
      "include_colab_link": true
    },
    "kernelspec": {
      "name": "python3",
      "display_name": "Python 3"
    },
    "language_info": {
      "name": "python"
    }
  },
  "cells": [
    {
      "cell_type": "markdown",
      "metadata": {
        "id": "view-in-github",
        "colab_type": "text"
      },
      "source": [
        "<a href=\"https://colab.research.google.com/github/mikeneko-cat/Prog2kakushin/blob/main/work1.ipynb\" target=\"_parent\"><img src=\"https://colab.research.google.com/assets/colab-badge.svg\" alt=\"Open In Colab\"/></a>"
      ]
    },
    {
      "cell_type": "markdown",
      "source": [
        "pandasを使ったプログラム\n",
        "\n",
        "---(内容)---\n",
        "\n",
        "広島県コロナ病床使用率"
      ],
      "metadata": {
        "id": "cAaeHVl3O_-Y"
      }
    },
    {
      "cell_type": "code",
      "source": [
        "!wget \"https://www.pref.hiroshima.lg.jp/soshiki_file/brand/covid19/opendata/340006_hiroshima_covid19_05_confirm_bed.csv\" -O iryou.csv\n",
        "!wget \"https://www.pref.hiroshima.lg.jp/soshiki_file/brand/covid19/opendata/340006_hiroshima_covid19_03_status_items.csv\" -O kansen.csv"
      ],
      "metadata": {
        "colab": {
          "base_uri": "https://localhost:8080/"
        },
        "id": "HpCB25N-RBnd",
        "outputId": "a620424c-8ab2-45f6-d3d2-33ace83cf734"
      },
      "execution_count": 11,
      "outputs": [
        {
          "output_type": "stream",
          "name": "stdout",
          "text": [
            "--2022-12-22 05:29:38--  https://www.pref.hiroshima.lg.jp/soshiki_file/brand/covid19/opendata/340006_hiroshima_covid19_05_confirm_bed.csv\n",
            "Resolving www.pref.hiroshima.lg.jp (www.pref.hiroshima.lg.jp)... 210.236.15.3\n",
            "Connecting to www.pref.hiroshima.lg.jp (www.pref.hiroshima.lg.jp)|210.236.15.3|:443... connected.\n",
            "HTTP request sent, awaiting response... 200 OK\n",
            "Length: 36135 (35K) [text/csv]\n",
            "Saving to: ‘iryou.csv’\n",
            "\n",
            "iryou.csv           100%[===================>]  35.29K   205KB/s    in 0.2s    \n",
            "\n",
            "2022-12-22 05:29:39 (205 KB/s) - ‘iryou.csv’ saved [36135/36135]\n",
            "\n",
            "--2022-12-22 05:29:39--  https://www.pref.hiroshima.lg.jp/soshiki_file/brand/covid19/opendata/340006_hiroshima_covid19_03_status_items.csv\n",
            "Resolving www.pref.hiroshima.lg.jp (www.pref.hiroshima.lg.jp)... 210.236.15.3\n",
            "Connecting to www.pref.hiroshima.lg.jp (www.pref.hiroshima.lg.jp)|210.236.15.3|:443... connected.\n",
            "HTTP request sent, awaiting response... 200 OK\n",
            "Length: 53692 (52K) [text/csv]\n",
            "Saving to: ‘kansen.csv’\n",
            "\n",
            "kansen.csv          100%[===================>]  52.43K   305KB/s    in 0.2s    \n",
            "\n",
            "2022-12-22 05:29:40 (305 KB/s) - ‘kansen.csv’ saved [53692/53692]\n",
            "\n"
          ]
        }
      ]
    },
    {
      "cell_type": "code",
      "source": [
        "import pandas as pn"
      ],
      "metadata": {
        "id": "Ry7FgeriPCDE"
      },
      "execution_count": 1,
      "outputs": []
    }
  ]
}