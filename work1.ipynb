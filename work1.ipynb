{
  "nbformat": 4,
  "nbformat_minor": 0,
  "metadata": {
    "colab": {
      "provenance": [],
      "authorship_tag": "ABX9TyPZGuaxM2shrDAJ1LL7yE5x",
      "include_colab_link": true
    },
    "kernelspec": {
      "name": "python3",
      "display_name": "Python 3"
    },
    "language_info": {
      "name": "python"
    }
  },
  "cells": [
    {
      "cell_type": "markdown",
      "metadata": {
        "id": "view-in-github",
        "colab_type": "text"
      },
      "source": [
        "<a href=\"https://colab.research.google.com/github/mikeneko-cat/Prog2kakushin/blob/main/work1.ipynb\" target=\"_parent\"><img src=\"https://colab.research.google.com/assets/colab-badge.svg\" alt=\"Open In Colab\"/></a>"
      ]
    },
    {
      "cell_type": "markdown",
      "source": [
        "pandasを使ったプログラム\n",
        "\n",
        "---(内容)---\n",
        "\n",
        "広島県コロナ病床使用率"
      ],
      "metadata": {
        "id": "FHlAo7RFpOpO"
      }
    },
    {
      "cell_type": "code",
      "source": [
        "import pandas\n",
        "!wget \"https://drive.google.com/drive/folders/1YE7zswwbpT6zrss5QawM69q5qKhCxHEL\" -O images.zip\n",
        "!unzip -o images.zip"
      ],
      "metadata": {
        "id": "oihFJBforbBA",
        "outputId": "397b7a3d-7323-4460-f3e3-8629806aa939",
        "colab": {
          "base_uri": "https://localhost:8080/"
        }
      },
      "execution_count": 16,
      "outputs": [
        {
          "output_type": "stream",
          "name": "stdout",
          "text": [
            "--2022-12-22 05:01:30--  https://drive.google.com/drive/folders/1YE7zswwbpT6zrss5QawM69q5qKhCxHEL\n",
            "Resolving drive.google.com (drive.google.com)... 74.125.204.113, 74.125.204.100, 74.125.204.102, ...\n",
            "Connecting to drive.google.com (drive.google.com)|74.125.204.113|:443... connected.\n",
            "HTTP request sent, awaiting response... 302 Found\n",
            "Location: https://accounts.google.com/ServiceLogin?service=wise&passive=1209600&osid=1&continue=https://drive.google.com/drive/folders/1YE7zswwbpT6zrss5QawM69q5qKhCxHEL&followup=https://drive.google.com/drive/folders/1YE7zswwbpT6zrss5QawM69q5qKhCxHEL [following]\n",
            "--2022-12-22 05:01:31--  https://accounts.google.com/ServiceLogin?service=wise&passive=1209600&osid=1&continue=https://drive.google.com/drive/folders/1YE7zswwbpT6zrss5QawM69q5qKhCxHEL&followup=https://drive.google.com/drive/folders/1YE7zswwbpT6zrss5QawM69q5qKhCxHEL\n",
            "Resolving accounts.google.com (accounts.google.com)... 108.177.125.84, 2404:6800:4008:c15::54\n",
            "Connecting to accounts.google.com (accounts.google.com)|108.177.125.84|:443... connected.\n",
            "HTTP request sent, awaiting response... 302 Moved Temporarily\n",
            "Location: https://accounts.google.com/v3/signin/identifier?dsh=S-1408620299%3A1671685291553341&continue=https%3A%2F%2Fdrive.google.com%2Fdrive%2Ffolders%2F1YE7zswwbpT6zrss5QawM69q5qKhCxHEL&followup=https%3A%2F%2Fdrive.google.com%2Fdrive%2Ffolders%2F1YE7zswwbpT6zrss5QawM69q5qKhCxHEL&osid=1&passive=1209600&service=wise&flowName=WebLiteSignIn&flowEntry=ServiceLogin&ifkv=AeAAQh79Cg9TZPjlGHDnxKsdmxvY1nbC03OnIR6j_tXTbBqaxE29fL2xyNx-fiYZ3zejK19LaFEyHg [following]\n",
            "--2022-12-22 05:01:31--  https://accounts.google.com/v3/signin/identifier?dsh=S-1408620299%3A1671685291553341&continue=https%3A%2F%2Fdrive.google.com%2Fdrive%2Ffolders%2F1YE7zswwbpT6zrss5QawM69q5qKhCxHEL&followup=https%3A%2F%2Fdrive.google.com%2Fdrive%2Ffolders%2F1YE7zswwbpT6zrss5QawM69q5qKhCxHEL&osid=1&passive=1209600&service=wise&flowName=WebLiteSignIn&flowEntry=ServiceLogin&ifkv=AeAAQh79Cg9TZPjlGHDnxKsdmxvY1nbC03OnIR6j_tXTbBqaxE29fL2xyNx-fiYZ3zejK19LaFEyHg\n",
            "Reusing existing connection to accounts.google.com:443.\n",
            "HTTP request sent, awaiting response... 200 OK\n",
            "Length: unspecified [text/html]\n",
            "Saving to: ‘images.zip’\n",
            "\n",
            "images.zip              [ <=>                ] 139.57K  --.-KB/s    in 0.01s   \n",
            "\n",
            "2022-12-22 05:01:31 (11.3 MB/s) - ‘images.zip’ saved [142920]\n",
            "\n",
            "Archive:  images.zip\n",
            "  End-of-central-directory signature not found.  Either this file is not\n",
            "  a zipfile, or it constitutes one disk of a multi-part archive.  In the\n",
            "  latter case the central directory and zipfile comment will be found on\n",
            "  the last disk(s) of this archive.\n",
            "unzip:  cannot find zipfile directory in one of images.zip or\n",
            "        images.zip.zip, and cannot find images.zip.ZIP, period.\n"
          ]
        }
      ]
    }
  ]
}