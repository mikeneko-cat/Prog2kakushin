{
  "nbformat": 4,
  "nbformat_minor": 0,
  "metadata": {
    "colab": {
      "provenance": [],
      "authorship_tag": "ABX9TyPX2eh1P2z1bsMU9H+a37Ad",
      "include_colab_link": true
    },
    "kernelspec": {
      "name": "python3",
      "display_name": "Python 3"
    },
    "language_info": {
      "name": "python"
    }
  },
  "cells": [
    {
      "cell_type": "markdown",
      "metadata": {
        "id": "view-in-github",
        "colab_type": "text"
      },
      "source": [
        "<a href=\"https://colab.research.google.com/github/mikeneko-cat/Prog2kakushin/blob/main/work1.ipynb\" target=\"_parent\"><img src=\"https://colab.research.google.com/assets/colab-badge.svg\" alt=\"Open In Colab\"/></a>"
      ]
    },
    {
      "cell_type": "markdown",
      "source": [
        "pandasを使ったプログラム\n",
        "\n",
        "---(内容)---\n",
        "\n",
        "広島県コロナ病床使用率"
      ],
      "metadata": {
        "id": "FHlAo7RFpOpO"
      }
    },
    {
      "cell_type": "code",
      "source": [
        "import pandas\n",
        "!wget \"https://drive.google.com/file/d/1VKBDnFMoY0y9H4fvmO5ksW8iVCsw5SQL/view?usp=share_link\" data1.csv\n",
        "!wget \"https://drive.google.com/file/d/14Bd5JOOW_ghC6SJY5KUGR1kKP7GZB0wy/view?usp=share_link\" data2.csv\n"
      ],
      "metadata": {
        "id": "oihFJBforbBA",
        "outputId": "f7a07eaf-ea9e-4f4a-e1de-57fdb0571b87",
        "colab": {
          "base_uri": "https://localhost:8080/"
        }
      },
      "execution_count": 8,
      "outputs": [
        {
          "output_type": "stream",
          "name": "stdout",
          "text": [
            "--2022-12-22 04:48:08--  https://drive.google.com/file/d/1VKBDnFMoY0y9H4fvmO5ksW8iVCsw5SQL/view?usp=share_link\n",
            "Resolving drive.google.com (drive.google.com)... 74.125.204.102, 74.125.204.101, 74.125.204.139, ...\n",
            "Connecting to drive.google.com (drive.google.com)|74.125.204.102|:443... connected.\n",
            "HTTP request sent, awaiting response... 200 OK\n",
            "Length: unspecified [text/html]\n",
            "Saving to: ‘view?usp=share_link’\n",
            "\n",
            "view?usp=share_link     [ <=>                ]  72.66K  --.-KB/s    in 0.02s   \n",
            "\n",
            "2022-12-22 04:48:08 (4.35 MB/s) - ‘view?usp=share_link’ saved [74400]\n",
            "\n",
            "--2022-12-22 04:48:08--  http://data1.csv/\n",
            "Resolving data1.csv (data1.csv)... failed: Name or service not known.\n",
            "wget: unable to resolve host address ‘data1.csv’\n",
            "FINISHED --2022-12-22 04:48:09--\n",
            "Total wall clock time: 0.6s\n",
            "Downloaded: 1 files, 73K in 0.02s (4.35 MB/s)\n",
            "--2022-12-22 04:48:09--  https://drive.google.com/file/d/14Bd5JOOW_ghC6SJY5KUGR1kKP7GZB0wy/view?usp=share_link\n",
            "Resolving drive.google.com (drive.google.com)... 74.125.204.102, 74.125.204.101, 74.125.204.139, ...\n",
            "Connecting to drive.google.com (drive.google.com)|74.125.204.102|:443... connected.\n",
            "HTTP request sent, awaiting response... 200 OK\n",
            "Length: unspecified [text/html]\n",
            "Saving to: ‘view?usp=share_link.1’\n",
            "\n",
            "view?usp=share_link     [ <=>                ]  72.66K  --.-KB/s    in 0.02s   \n",
            "\n",
            "2022-12-22 04:48:09 (3.82 MB/s) - ‘view?usp=share_link.1’ saved [74400]\n",
            "\n",
            "--2022-12-22 04:48:09--  http://data2.csv/\n",
            "Resolving data2.csv (data2.csv)... failed: Name or service not known.\n",
            "wget: unable to resolve host address ‘data2.csv’\n",
            "FINISHED --2022-12-22 04:48:09--\n",
            "Total wall clock time: 0.6s\n",
            "Downloaded: 1 files, 73K in 0.02s (3.82 MB/s)\n"
          ]
        }
      ]
    }
  ]
}